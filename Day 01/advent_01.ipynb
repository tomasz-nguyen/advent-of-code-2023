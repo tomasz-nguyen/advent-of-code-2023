{
 "cells": [
  {
   "cell_type": "code",
   "execution_count": 1,
   "metadata": {},
   "outputs": [],
   "source": [
    "with open(\"input.txt\") as file:\n",
    "    lines = file.read().splitlines()"
   ]
  },
  {
   "cell_type": "code",
   "execution_count": 2,
   "metadata": {},
   "outputs": [],
   "source": [
    "def get_calibration_value(line):\n",
    "    digits = list(filter(lambda x: x.isdigit(), list(line)))\n",
    "    return int(digits[0] + digits[-1])"
   ]
  },
  {
   "cell_type": "code",
   "execution_count": 3,
   "metadata": {},
   "outputs": [
    {
     "data": {
      "text/plain": [
       "54951"
      ]
     },
     "execution_count": 3,
     "metadata": {},
     "output_type": "execute_result"
    }
   ],
   "source": [
    "# Part 1\n",
    "sum([get_calibration_value(line) for line in lines])"
   ]
  },
  {
   "cell_type": "code",
   "execution_count": 4,
   "metadata": {},
   "outputs": [],
   "source": [
    "def get_calibration_value_new(line):\n",
    "    numbers = {\n",
    "        'one' : '1',\n",
    "        'two' : '2',\n",
    "        'three' : '3',\n",
    "        'four' : '4',\n",
    "        'five' : '5',\n",
    "        'six' : '6',\n",
    "        'seven' : '7',\n",
    "        'eight' : '8',\n",
    "        'nine' : '9',\n",
    "    }\n",
    "\n",
    "    digits = []\n",
    "    for idx, char in enumerate(line):\n",
    "        if char.isdigit():\n",
    "            digits.append(char)\n",
    "        else:\n",
    "            [digits.append(v) for k, v in numbers.items() if k in line[idx:idx+(len(k))]]\n",
    "\n",
    "    return int(digits[0] + digits[-1])"
   ]
  },
  {
   "cell_type": "code",
   "execution_count": 5,
   "metadata": {},
   "outputs": [
    {
     "data": {
      "text/plain": [
       "55218"
      ]
     },
     "execution_count": 5,
     "metadata": {},
     "output_type": "execute_result"
    }
   ],
   "source": [
    "# Part 2\n",
    "sum([get_calibration_value_new(line) for line in lines])"
   ]
  }
 ],
 "metadata": {
  "kernelspec": {
   "display_name": "Python 3",
   "language": "python",
   "name": "python3"
  },
  "language_info": {
   "codemirror_mode": {
    "name": "ipython",
    "version": 3
   },
   "file_extension": ".py",
   "mimetype": "text/x-python",
   "name": "python",
   "nbconvert_exporter": "python",
   "pygments_lexer": "ipython3",
   "version": "3.11.5"
  }
 },
 "nbformat": 4,
 "nbformat_minor": 2
}
