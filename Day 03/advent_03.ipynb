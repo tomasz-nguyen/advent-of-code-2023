{
 "cells": [
  {
   "cell_type": "code",
   "execution_count": 1,
   "metadata": {},
   "outputs": [],
   "source": [
    "with open(\"input.txt\") as file:\n",
    "    lines = file.read().splitlines()"
   ]
  },
  {
   "cell_type": "code",
   "execution_count": 2,
   "metadata": {},
   "outputs": [],
   "source": [
    "import numpy as np"
   ]
  },
  {
   "cell_type": "code",
   "execution_count": 3,
   "metadata": {},
   "outputs": [],
   "source": [
    "schematic = np.array([list(line) for line in lines])\n",
    "\n",
    "digits_locations = [idx for idx, x in np.ndenumerate(schematic) if x.isdigit()]\n",
    "signs_locations = [idx for idx, x in np.ndenumerate(schematic) if not x.isdigit() and x != '.']"
   ]
  },
  {
   "cell_type": "code",
   "execution_count": 4,
   "metadata": {},
   "outputs": [],
   "source": [
    "# Digits grouping\n",
    "digits_grouped = []\n",
    "digit_info = [digits_locations[0]]\n",
    "\n",
    "for idx, digit in enumerate(digits_locations):\n",
    "    if idx == len(digits_locations)-1: # Last number\n",
    "        digit_info.append(digit)\n",
    "        full_number = int(\"\".join([schematic[x[0]][x[1]] for x in digit_info]))\n",
    "        digits_grouped.append((full_number, digit_info))\n",
    "        digit_info = []\n",
    "\n",
    "    else:\n",
    "        if idx>0:\n",
    "            \n",
    "            if digit[0] == digits_locations[idx-1][0]: # Same row\n",
    "                \n",
    "                if digit[1] - digits_locations[idx-1][1] == 1:\n",
    "                    digit_info.append(digit)\n",
    "                else:\n",
    "                    full_number = int(\"\".join([schematic[x[0]][x[1]] for x in digit_info]))\n",
    "                    digits_grouped.append((full_number, digit_info))\n",
    "                    digit_info = []\n",
    "                    digit_info.append(digit)\n",
    "            \n",
    "            else:\n",
    "                    full_number = int(\"\".join([schematic[x[0]][x[1]] for x in digit_info]))\n",
    "                    digits_grouped.append((full_number, digit_info))\n",
    "                    digit_info = []\n",
    "                    digit_info.append(digit)\n",
    "              "
   ]
  },
  {
   "cell_type": "code",
   "execution_count": 5,
   "metadata": {},
   "outputs": [],
   "source": [
    "def get_adjacent_to_sign(signs_locations, schematic, part=1):\n",
    "    adjacent_to_sign = []\n",
    "\n",
    "    for sign in signs_locations:\n",
    "        sign_row = sign[0]\n",
    "        sign_col = sign[1]\n",
    "\n",
    "        combinations = [\n",
    "            (sign_row, sign_col+1), # Digit to the right\n",
    "            (sign_row, sign_col-1), # Digit to the left\n",
    "            (sign_row+1, sign_col-1), # Digit below and to the left\n",
    "            (sign_row+1, sign_col), # Digit below\n",
    "            (sign_row+1, sign_col+1), # Digit below and to the right\n",
    "            (sign_row-1, sign_col-1), # Digit above and to the left\n",
    "            (sign_row-1, sign_col), # Digit above\n",
    "            (sign_row-1, sign_col+1), # Digit above and to the right\n",
    "        ]\n",
    "        \n",
    "        combinations_clean = [\n",
    "            x for x in combinations \\\n",
    "            if (x[0]>=0 and x[0] < schematic.shape[0]) \n",
    "            and (x[1] >= 0 and x[1] < schematic.shape[1])            \n",
    "        ]\n",
    "\n",
    "        if part==1:\n",
    "            adjacent_to_sign.extend(combinations_clean)\n",
    "        elif part==2:\n",
    "            adjacent_to_sign.append((sign, sorted(combinations_clean)))\n",
    "\n",
    "    adjacent_to_sign.sort()\n",
    "\n",
    "    return adjacent_to_sign\n"
   ]
  },
  {
   "cell_type": "code",
   "execution_count": 6,
   "metadata": {},
   "outputs": [],
   "source": [
    "adjacent_to_sign = get_adjacent_to_sign(signs_locations, schematic)"
   ]
  },
  {
   "cell_type": "code",
   "execution_count": 7,
   "metadata": {},
   "outputs": [
    {
     "data": {
      "text/plain": [
       "560670"
      ]
     },
     "execution_count": 7,
     "metadata": {},
     "output_type": "execute_result"
    }
   ],
   "source": [
    "machine_parts = [x[0] for x in digits_grouped if len(set(x[1]).intersection(set(adjacent_to_sign))) > 0]\n",
    "sum(machine_parts)"
   ]
  },
  {
   "cell_type": "code",
   "execution_count": 8,
   "metadata": {},
   "outputs": [],
   "source": [
    "gear_symbol_locations = [x for x in signs_locations if schematic[x[0]][x[1]] == \"*\"]"
   ]
  },
  {
   "cell_type": "code",
   "execution_count": 9,
   "metadata": {},
   "outputs": [],
   "source": [
    "adjacent_to_gear_symbol = get_adjacent_to_sign(gear_symbol_locations, schematic, 2)"
   ]
  },
  {
   "cell_type": "code",
   "execution_count": 10,
   "metadata": {},
   "outputs": [
    {
     "data": {
      "text/plain": [
       "91622824"
      ]
     },
     "execution_count": 10,
     "metadata": {},
     "output_type": "execute_result"
    }
   ],
   "source": [
    "gear_ratios = [] \n",
    "\n",
    "for gear_symbol in adjacent_to_gear_symbol:\n",
    "    symbol_combinations = set(gear_symbol[1])\n",
    "    matched_numbers = []\n",
    "    for number in digits_grouped:\n",
    "        number_locations = set(number[1])\n",
    "        if len(symbol_combinations.intersection(number_locations)) > 0:\n",
    "            matched_numbers.append(number[0])\n",
    "\n",
    "    if len(matched_numbers) == 2:\n",
    "        gear_ratios.append(matched_numbers[0]*matched_numbers[1])\n",
    "\n",
    "sum(gear_ratios)"
   ]
  }
 ],
 "metadata": {
  "kernelspec": {
   "display_name": "tableau",
   "language": "python",
   "name": "python3"
  },
  "language_info": {
   "codemirror_mode": {
    "name": "ipython",
    "version": 3
   },
   "file_extension": ".py",
   "mimetype": "text/x-python",
   "name": "python",
   "nbconvert_exporter": "python",
   "pygments_lexer": "ipython3",
   "version": "3.8.6"
  },
  "orig_nbformat": 4,
  "vscode": {
   "interpreter": {
    "hash": "78452bdca54167cdf4afc751ff44535ca511fe59956feffcad8d8d2535e0bd29"
   }
  }
 },
 "nbformat": 4,
 "nbformat_minor": 2
}
