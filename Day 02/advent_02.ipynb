{
 "cells": [
  {
   "cell_type": "code",
   "execution_count": 1,
   "metadata": {},
   "outputs": [],
   "source": [
    "with open(\"input.txt\") as file:\n",
    "    lines = file.read().splitlines()"
   ]
  },
  {
   "cell_type": "code",
   "execution_count": 2,
   "metadata": {},
   "outputs": [],
   "source": [
    "def read_game(line):\n",
    "    game = {}\n",
    "    game[\"idx\"] = int(line.split(\":\")[0][5:])\n",
    "\n",
    "    game_sets = line.split(\":\")[1].split(\";\")\n",
    "\n",
    "    def read_game_set(set_line):\n",
    "        game_set = [x.strip() for x in set_line.split(\",\")]\n",
    "        return {x.split()[1] : int(x.split()[0]) for x in game_set}\n",
    "    \n",
    "    game['sets'] = [read_game_set(x) for x in game_sets]\n",
    "\n",
    "    return game"
   ]
  },
  {
   "cell_type": "code",
   "execution_count": 3,
   "metadata": {},
   "outputs": [],
   "source": [
    "def check_game(bag, game):\n",
    "    def check_set(bag_limits, game_set):\n",
    "        return min([bag_limits[gk] >= gv for gk, gv in game_set.items()])\n",
    "    \n",
    "    return min([check_set(bag, x) for x in game['sets']])"
   ]
  },
  {
   "cell_type": "code",
   "execution_count": 4,
   "metadata": {},
   "outputs": [],
   "source": [
    "bag = {\n",
    "    \"red\" : 12,\n",
    "    \"green\" : 13,\n",
    "    \"blue\" : 14\n",
    "}"
   ]
  },
  {
   "cell_type": "code",
   "execution_count": 5,
   "metadata": {},
   "outputs": [],
   "source": [
    "games = [read_game(l) for l in lines]"
   ]
  },
  {
   "cell_type": "code",
   "execution_count": 6,
   "metadata": {},
   "outputs": [
    {
     "data": {
      "text/plain": [
       "2239"
      ]
     },
     "execution_count": 6,
     "metadata": {},
     "output_type": "execute_result"
    }
   ],
   "source": [
    "sum([game['idx'] for game in games if check_game(bag, game) == True])"
   ]
  },
  {
   "cell_type": "code",
   "execution_count": 7,
   "metadata": {},
   "outputs": [],
   "source": [
    "import numpy\n",
    "\n",
    "def minimum_game(game):\n",
    "    max_cubes = {\n",
    "        \"red\" : [],\n",
    "        \"green\" : [],\n",
    "        \"blue\" : []\n",
    "    }\n",
    "\n",
    "    [[max_cubes[color].append(number) for color, number in x.items()] for x in game['sets']]\n",
    "    return numpy.prod([max(cubes) for color, cubes in max_cubes.items()])"
   ]
  },
  {
   "cell_type": "code",
   "execution_count": 8,
   "metadata": {},
   "outputs": [
    {
     "data": {
      "text/plain": [
       "83435"
      ]
     },
     "execution_count": 8,
     "metadata": {},
     "output_type": "execute_result"
    }
   ],
   "source": [
    "sum([minimum_game(game) for game in games])"
   ]
  }
 ],
 "metadata": {
  "kernelspec": {
   "display_name": "Python 3",
   "language": "python",
   "name": "python3"
  },
  "language_info": {
   "codemirror_mode": {
    "name": "ipython",
    "version": 3
   },
   "file_extension": ".py",
   "mimetype": "text/x-python",
   "name": "python",
   "nbconvert_exporter": "python",
   "pygments_lexer": "ipython3",
   "version": "3.11.5"
  }
 },
 "nbformat": 4,
 "nbformat_minor": 2
}
