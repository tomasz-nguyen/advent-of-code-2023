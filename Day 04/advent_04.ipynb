{
 "cells": [
  {
   "cell_type": "code",
   "execution_count": 1,
   "metadata": {},
   "outputs": [],
   "source": [
    "with open(\"input.txt\") as file:\n",
    "    lines = file.read().splitlines()"
   ]
  },
  {
   "cell_type": "code",
   "execution_count": 2,
   "metadata": {},
   "outputs": [],
   "source": [
    "import numpy as np"
   ]
  },
  {
   "cell_type": "code",
   "execution_count": 3,
   "metadata": {},
   "outputs": [],
   "source": [
    "def read_card(line):\n",
    "    card_index = line.split(\":\")[0].split(\" \")[-1]\n",
    "    card_numbers = line.split(\":\")[1]\n",
    "\n",
    "    winning_numbers = card_numbers.split(\"|\")[0]\n",
    "    numbers = card_numbers.split(\"|\")[1]\n",
    "\n",
    "    winning_numbers_clean = set([int(x) for x in winning_numbers.split(\" \") if x != \"\"])\n",
    "    numbers_clean = set([int(x) for x in numbers.split(\" \") if x != \"\"])\n",
    "    matches = winning_numbers_clean.intersection(numbers_clean)\n",
    "\n",
    "    card_dict = {\n",
    "        \"card\" : card_index,\n",
    "        \"winning\" : winning_numbers_clean,\n",
    "        \"numbers\" : numbers_clean,\n",
    "        \"matches\" : matches,\n",
    "        \"count\" : 1,\n",
    "    }\n",
    "    \n",
    "    if len(matches) > 0:\n",
    "        card_points = [1]\n",
    "        card_points.extend([2 for i in range(len(matches)-1)])\n",
    "        card_dict[\"points\"] = card_points   \n",
    "\n",
    "    return card_dict"
   ]
  },
  {
   "cell_type": "code",
   "execution_count": 4,
   "metadata": {},
   "outputs": [],
   "source": [
    "cards = [read_card(card) for card in lines]"
   ]
  },
  {
   "cell_type": "code",
   "execution_count": 5,
   "metadata": {},
   "outputs": [
    {
     "data": {
      "text/plain": [
       "21919"
      ]
     },
     "execution_count": 5,
     "metadata": {},
     "output_type": "execute_result"
    }
   ],
   "source": [
    "# Part 1\n",
    "sum([np.prod(x['points']) for x in cards if len(x[\"matches\"]) > 0])"
   ]
  },
  {
   "cell_type": "code",
   "execution_count": 6,
   "metadata": {},
   "outputs": [
    {
     "data": {
      "text/plain": [
       "9881048"
      ]
     },
     "execution_count": 6,
     "metadata": {},
     "output_type": "execute_result"
    }
   ],
   "source": [
    "# Part 2\n",
    "for idx, card in enumerate(cards):\n",
    "    for i in range(card[\"count\"]):\n",
    "        for j in range(len(card[\"matches\"])):\n",
    "            cards[idx+j+1][\"count\"] += 1\n",
    "\n",
    "sum([x['count'] for x in cards])            "
   ]
  }
 ],
 "metadata": {
  "kernelspec": {
   "display_name": "tableau",
   "language": "python",
   "name": "python3"
  },
  "language_info": {
   "codemirror_mode": {
    "name": "ipython",
    "version": 3
   },
   "file_extension": ".py",
   "mimetype": "text/x-python",
   "name": "python",
   "nbconvert_exporter": "python",
   "pygments_lexer": "ipython3",
   "version": "3.8.6"
  },
  "orig_nbformat": 4,
  "vscode": {
   "interpreter": {
    "hash": "78452bdca54167cdf4afc751ff44535ca511fe59956feffcad8d8d2535e0bd29"
   }
  }
 },
 "nbformat": 4,
 "nbformat_minor": 2
}
